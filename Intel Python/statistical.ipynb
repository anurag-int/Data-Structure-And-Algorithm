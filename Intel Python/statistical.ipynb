{
 "cells": [
  {
   "cell_type": "code",
   "execution_count": 2,
   "metadata": {},
   "outputs": [
    {
     "name": "stdout",
     "output_type": "stream",
     "text": [
      "[[1 2 3]\n",
      " [4 5 6]\n",
      " [7 8 9]]\n"
     ]
    }
   ],
   "source": [
    "import numpy as np\n",
    "a = np.array([[1,2,3],[4,5,6],[7,8,9]])\n",
    "\n",
    "print(a)"
   ]
  },
  {
   "cell_type": "code",
   "execution_count": 3,
   "metadata": {},
   "outputs": [
    {
     "name": "stdout",
     "output_type": "stream",
     "text": [
      "1\n",
      "9\n"
     ]
    }
   ],
   "source": [
    "print(np.amin(a))\n",
    "print(np.amax(a))"
   ]
  },
  {
   "cell_type": "code",
   "execution_count": 4,
   "metadata": {},
   "outputs": [
    {
     "name": "stdout",
     "output_type": "stream",
     "text": [
      "[1 2 3]\n",
      "[7 8 9]\n"
     ]
    }
   ],
   "source": [
    "print(np.amin(a,0))\n",
    "print(np.amax(a,0))"
   ]
  },
  {
   "cell_type": "code",
   "execution_count": 5,
   "metadata": {},
   "outputs": [
    {
     "name": "stdout",
     "output_type": "stream",
     "text": [
      "[[ 2  3  4]\n",
      " [22 33 44]\n",
      " [10 20 30]]\n",
      "peak to peak value of array algon axis 0 : [20 30 40]\n",
      "peak to peak value of array algon axis 1 : [ 2 22 20]\n"
     ]
    }
   ],
   "source": [
    "import numpy as np\n",
    "\n",
    "arr = np.array([[2,3,4],[22,33,44],[10,20,30]])\n",
    "print(arr)\n",
    "print(\"peak to peak value of array algon axis 0 :\", np.ptp(arr,axis=0))\n",
    "print(\"peak to peak value of array algon axis 1 :\", np.ptp(arr,axis=1))"
   ]
  },
  {
   "cell_type": "code",
   "execution_count": 6,
   "metadata": {},
   "outputs": [
    {
     "name": "stdout",
     "output_type": "stream",
     "text": [
      "[[ 2  3  4]\n",
      " [22 33 44]\n",
      " [10 20 30]]\n",
      "\n",
      "\n",
      "[ 4. 20.]\n"
     ]
    }
   ],
   "source": [
    "import numpy as np\n",
    "\n",
    "perc = np.arange(11)\n",
    "perc = np.percentile(arr,[25,50])\n",
    "print(arr)\n",
    "print(\"\\n\")\n",
    "print(perc)\n"
   ]
  },
  {
   "cell_type": "code",
   "execution_count": 7,
   "metadata": {},
   "outputs": [
    {
     "name": "stdout",
     "output_type": "stream",
     "text": [
      "[[ 2  3  4]\n",
      " [22 33 44]\n",
      " [10 20 30]]\n",
      "\n",
      " Percentile along the axis 0 : [10. 20. 30.]\n",
      "\n",
      " Percentile along the axis 1 : [ 3. 33. 20.]\n"
     ]
    }
   ],
   "source": [
    "import numpy as np\n",
    "arr = np.array([[2,3,4],[22,33,44],[10,20,30]])\n",
    "\n",
    "print(arr)\n",
    "print(\"\\n Percentile along the axis 0 :\",np.percentile(arr,50,0))\n",
    "print(\"\\n Percentile along the axis 1 :\",np.percentile(arr,50,1))\n"
   ]
  },
  {
   "cell_type": "code",
   "execution_count": 8,
   "metadata": {},
   "outputs": [
    {
     "name": "stdout",
     "output_type": "stream",
     "text": [
      "arr : [20, 2, 7, 1, 34]\n",
      "50th percentile of arr :  7.0\n",
      "25th percentile of arr : 2.0\n",
      "75th percentile of arr : 20.0\n"
     ]
    }
   ],
   "source": [
    "import numpy as np\n",
    "arr = [20,2,7,1,34]\n",
    "print(\"arr :\", arr)\n",
    "print(\"50th percentile of arr : \",np.percentile(arr,50))\n",
    "print(\"25th percentile of arr :\", np.percentile(arr,25))\n",
    "print(\"75th percentile of arr :\", np.percentile(arr,75))"
   ]
  },
  {
   "cell_type": "code",
   "execution_count": 9,
   "metadata": {},
   "outputs": [
    {
     "name": "stdout",
     "output_type": "stream",
     "text": [
      "array is : \n",
      " [[3 7 5]\n",
      " [8 4 3]\n",
      " [2 4 9]]\n",
      "4.0\n",
      "[5. 4. 4.]\n",
      "[3. 4. 5.]\n"
     ]
    }
   ],
   "source": [
    "a = np.array([[3,7,5],[8,4,3],[2,4,9]])\n",
    "\n",
    "print(\"array is : \\n\" , a)\n",
    "print(np.median(a))\n",
    "print(np.median(a,axis = 1))\n",
    "print(np.median(a,axis=0))"
   ]
  },
  {
   "cell_type": "code",
   "execution_count": 10,
   "metadata": {},
   "outputs": [
    {
     "name": "stdout",
     "output_type": "stream",
     "text": [
      "[[30 17 35]\n",
      " [18 24 33]\n",
      " [12 24 19]]\n",
      "the mean is 23.555555555555557\n",
      "the mean function along axis 1 [27.33333333 25.         18.33333333]\n",
      "the mean function along axis 0 [20.         21.66666667 29.        ]\n"
     ]
    }
   ],
   "source": [
    "a= np.array([[30,17,35],[18,24,33],[12,24,19]])\n",
    "\n",
    "print(a)\n",
    "\n",
    "print(\"the mean is\", np.mean(a))\n",
    "print(\"the mean function along axis 1\", np.mean(a,axis=1))\n",
    "print(\"the mean function along axis 0\", np.mean(a,axis=0))"
   ]
  },
  {
   "cell_type": "code",
   "execution_count": 11,
   "metadata": {},
   "outputs": [
    {
     "name": "stdout",
     "output_type": "stream",
     "text": [
      "[1 2 3 4]\n",
      "2.5\n",
      "2.857142857142857\n",
      "\n",
      "\n"
     ]
    }
   ],
   "source": [
    "a = np.array([1,2,3,4])\n",
    "print(a)\n",
    "\n",
    "print(np.average(a))\n",
    "wts = np.array([2,3,4,5])\n",
    "print(np.average(a, weights=wts))\n",
    "print(\"\\n\")\n",
    "\n"
   ]
  },
  {
   "cell_type": "code",
   "execution_count": null,
   "metadata": {},
   "outputs": [],
   "source": [
    "import numpy as np\n",
    "a = np.array([[2,5,7,9,1],[11,33,55,77,22]])\n",
    "print(arr)\n",
    "print(\"Standard deviation of the array is :\",np.std(arr))\n",
    "print(\"Variance of the array is : \",np.var(arr))\n",
    "print(np.var(arr))"
   ]
  },
  {
   "cell_type": "code",
   "execution_count": null,
   "metadata": {},
   "outputs": [],
   "source": [
    "#use to reshape the array\n",
    "\n",
    "import numpy as np\n",
    "arr = np.arange(12)\n",
    "print(\"\\n Original array is :\\n\",arr)\n",
    "print(\"\\n New array :\\n\",np.reshape(arr,(3,-1)))"
   ]
  },
  {
   "cell_type": "code",
   "execution_count": 22,
   "metadata": {},
   "outputs": [
    {
     "name": "stdout",
     "output_type": "stream",
     "text": [
      "[12.1 23.4 43.3 55.5 45.7]\n",
      "[12. 23. 43. 55. 45.]\n"
     ]
    }
   ],
   "source": [
    "#floor\n",
    "arr = np.array([12.1, 23.4, 43.3, 55.5, 45.7])\n",
    "print(arr)\n",
    "print(np.floor(arr))"
   ]
  },
  {
   "cell_type": "code",
   "execution_count": 23,
   "metadata": {},
   "outputs": [
    {
     "name": "stdout",
     "output_type": "stream",
     "text": [
      "[12.1 23.4 43.3 55.5 45.7]\n",
      "[13. 24. 44. 56. 46.]\n"
     ]
    }
   ],
   "source": [
    "#ceil\n",
    "arr = np.array([12.1, 23.4, 43.3, 55.5, 45.7])\n",
    "print(arr)\n",
    "print(np.ceil(arr))"
   ]
  },
  {
   "cell_type": "code",
   "execution_count": 24,
   "metadata": {},
   "outputs": [
    {
     "name": "stdout",
     "output_type": "stream",
     "text": [
      "[12.1 23.4 43.3 55.5 45.7]\n",
      "[12. 23. 43. 56. 46.]\n"
     ]
    }
   ],
   "source": [
    "#roundoff\n",
    "arr = np.array([12.1, 23.4, 43.3, 55.5, 45.7])\n",
    "print(arr)\n",
    "print(np.round(arr))"
   ]
  },
  {
   "cell_type": "code",
   "execution_count": null,
   "metadata": {},
   "outputs": [],
   "source": [
    "arr = np.arange(9).reshape(3,3)\n",
    "print(arr)\n"
   ]
  }
 ],
 "metadata": {
  "kernelspec": {
   "display_name": "Python 3.11.0 64-bit",
   "language": "python",
   "name": "python3"
  },
  "language_info": {
   "codemirror_mode": {
    "name": "ipython",
    "version": 3
   },
   "file_extension": ".py",
   "mimetype": "text/x-python",
   "name": "python",
   "nbconvert_exporter": "python",
   "pygments_lexer": "ipython3",
   "version": "3.11.0"
  },
  "orig_nbformat": 4,
  "vscode": {
   "interpreter": {
    "hash": "a310c0bb793ad7c4795fe1a1f3392825b05fc042a3eaafb5d65a94305f01a30d"
   }
  }
 },
 "nbformat": 4,
 "nbformat_minor": 2
}
